{
 "cells": [
  {
   "cell_type": "markdown",
   "metadata": {},
   "source": [
    "### 数论运算"
   ]
  },
  {
   "cell_type": "markdown",
   "metadata": {},
   "source": [
    "近似除法"
   ]
  },
  {
   "cell_type": "code",
   "execution_count": 1,
   "metadata": {},
   "outputs": [
    {
     "name": "stdout",
     "output_type": "stream",
     "text": [
      "1.6666666666666667\n",
      "5/3\n"
     ]
    }
   ],
   "source": [
    "def div_approx(a, b):\n",
    "    print(RDF(a / b))\n",
    "    print(a / b)\n",
    "\n",
    "div_approx(5, 3)"
   ]
  },
  {
   "cell_type": "markdown",
   "metadata": {},
   "source": [
    "模除"
   ]
  },
  {
   "cell_type": "code",
   "execution_count": 4,
   "metadata": {},
   "outputs": [
    {
     "name": "stdout",
     "output_type": "stream",
     "text": [
      "5\n",
      "2\n"
     ]
    }
   ],
   "source": [
    "a = 16 // 3\n",
    "print(a)\n",
    "b = 5 % 3\n",
    "print(b)"
   ]
  },
  {
   "cell_type": "markdown",
   "metadata": {},
   "source": [
    "幂运算"
   ]
  },
  {
   "cell_type": "code",
   "execution_count": 5,
   "metadata": {},
   "outputs": [
    {
     "name": "stdout",
     "output_type": "stream",
     "text": [
      "729\n",
      "1024\n",
      "1024\n"
     ]
    }
   ],
   "source": [
    "print(3 ^ 6)\n",
    "print(2 ** 10)\n",
    "print(pow(2, 10))"
   ]
  },
  {
   "cell_type": "code",
   "execution_count": 7,
   "metadata": {},
   "outputs": [
    {
     "name": "stdout",
     "output_type": "stream",
     "text": [
      "5\n"
     ]
    },
    {
     "data": {
      "text/plain": [
       "7027"
      ]
     },
     "execution_count": 7,
     "metadata": {},
     "output_type": "execute_result"
    }
   ],
   "source": [
    "# 异或\n",
    "print(3 ^^ 6)\n",
    "xor = lambda x, y: x ^^ y\n",
    "xor(654, 6653)"
   ]
  },
  {
   "cell_type": "markdown",
   "metadata": {},
   "source": [
    "取整"
   ]
  },
  {
   "cell_type": "code",
   "execution_count": 8,
   "metadata": {},
   "outputs": [
    {
     "name": "stdout",
     "output_type": "stream",
     "text": [
      "3 4\n"
     ]
    }
   ],
   "source": [
    "print(floor(3.7), ceil(3.7))"
   ]
  },
  {
   "cell_type": "markdown",
   "metadata": {},
   "source": [
    "最大公因数与最小公倍数"
   ]
  },
  {
   "cell_type": "code",
   "execution_count": 9,
   "metadata": {},
   "outputs": [
    {
     "name": "stdout",
     "output_type": "stream",
     "text": [
      "6 36\n"
     ]
    }
   ],
   "source": [
    "print(gcd(12, 18), lcm(12, 18))"
   ]
  },
  {
   "cell_type": "markdown",
   "metadata": {},
   "source": [
    "扩展欧几里得算法"
   ]
  },
  {
   "cell_type": "code",
   "execution_count": 11,
   "metadata": {},
   "outputs": [
    {
     "name": "stdout",
     "output_type": "stream",
     "text": [
      "6 = -1 * 12 + 1 * 18\n"
     ]
    }
   ],
   "source": [
    "a, b = 12, 18\n",
    "g, u, v = xgcd(a, b)\n",
    "print(f\"{g} = {u} * {a} + {v} * {b}\")"
   ]
  },
  {
   "cell_type": "markdown",
   "metadata": {},
   "source": [
    "模逆运算"
   ]
  },
  {
   "cell_type": "code",
   "execution_count": 15,
   "metadata": {},
   "outputs": [
    {
     "name": "stdout",
     "output_type": "stream",
     "text": [
      "7\n",
      "7\n",
      "13\n"
     ]
    }
   ],
   "source": [
    "print(inverse_mod(13, 18))\n",
    "\n",
    "from Crypto.Util.number import inverse\n",
    "print(inverse(13, 18))\n",
    "\n",
    "print(pow(7, -1, 18))"
   ]
  },
  {
   "cell_type": "code",
   "execution_count": 16,
   "metadata": {},
   "outputs": [
    {
     "name": "stderr",
     "output_type": "stream",
     "text": [
      "/opt/sagemath-9.3/local/lib/python3.7/site-packages/docutils/io.py:245: DeprecationWarning: 'U' mode is deprecated\n",
      "  self.source = open(source_path, mode, **kwargs)\n"
     ]
    },
    {
     "name": "stdout",
     "output_type": "stream",
     "text": [
      "\u001b[0;31mSignature:\u001b[0m      \u001b[0minverse_mod\u001b[0m\u001b[0;34m(\u001b[0m\u001b[0ma\u001b[0m\u001b[0;34m,\u001b[0m \u001b[0mm\u001b[0m\u001b[0;34m)\u001b[0m\u001b[0;34m\u001b[0m\u001b[0;34m\u001b[0m\u001b[0m\n",
      "\u001b[0;31mDocstring:\u001b[0m     \n",
      "   The inverse of the ring element a modulo m.\n",
      "\n",
      "   If no special inverse_mod is defined for the elements, it tries to\n",
      "   coerce them into integers and perform the inversion there\n",
      "\n",
      "      sage: inverse_mod(7,1)\n",
      "      0\n",
      "      sage: inverse_mod(5,14)\n",
      "      3\n",
      "      sage: inverse_mod(3,-5)\n",
      "      2\n",
      "\n",
      "   Tests with numpy and mpz numbers:\n",
      "\n",
      "      sage: from numpy import int8\n",
      "      sage: inverse_mod(int8(5),int8(14))\n",
      "      3\n",
      "      sage: from gmpy2 import mpz\n",
      "      sage: inverse_mod(mpz(5),mpz(14))\n",
      "      3\n",
      "\u001b[0;31mInit docstring:\u001b[0m Initialize self.  See help(type(self)) for accurate signature.\n",
      "\u001b[0;31mFile:\u001b[0m           /opt/sagemath-9.3/local/lib/python3.7/site-packages/sage/arith/misc.py\n",
      "\u001b[0;31mType:\u001b[0m           function\n"
     ]
    }
   ],
   "source": [
    "inverse_mod?"
   ]
  },
  {
   "cell_type": "markdown",
   "metadata": {},
   "source": [
    "中国剩余定理"
   ]
  },
  {
   "cell_type": "code",
   "execution_count": 20,
   "metadata": {},
   "outputs": [
    {
     "name": "stdout",
     "output_type": "stream",
     "text": [
      "2090934\n",
      "x = 1 mod 13\n",
      "x = 2 mod 17\n",
      "x = 3 mod 19\n",
      "x = 4 mod 23\n",
      "x = 5 mod 29\n"
     ]
    }
   ],
   "source": [
    "a_s = [1, 2, 3, 4, 5]\n",
    "m_s = [13, 17, 19, 23, 29]\n",
    "sol = crt(a_s, m_s)\n",
    "print(sol)\n",
    "for i in range(5):\n",
    "    print(f\"x = {sol % m_s[i]} mod {m_s[i]}\")"
   ]
  },
  {
   "cell_type": "markdown",
   "metadata": {},
   "source": [
    "素数"
   ]
  },
  {
   "cell_type": "code",
   "execution_count": 25,
   "metadata": {},
   "outputs": [
    {
     "name": "stdout",
     "output_type": "stream",
     "text": [
      "1468654742353436081989163554610016641325356873666418628843333\n",
      "True\n"
     ]
    }
   ],
   "source": [
    "from Crypto.Util.number import getPrime\n",
    "p1 = getPrime(200)\n",
    "print(p1)\n",
    "print(is_prime(p1))"
   ]
  },
  {
   "cell_type": "code",
   "execution_count": 28,
   "metadata": {},
   "outputs": [
    {
     "name": "stdout",
     "output_type": "stream",
     "text": [
      "7919\n",
      "7919\n"
     ]
    }
   ],
   "source": [
    "from Crypto.Util.number import sieve_base\n",
    "print(sieve_base[1000 - 1])\n",
    "\n",
    "print(nth_prime(1000))"
   ]
  },
  {
   "cell_type": "markdown",
   "metadata": {},
   "source": [
    "整数分解"
   ]
  },
  {
   "cell_type": "code",
   "execution_count": 38,
   "metadata": {},
   "outputs": [
    {
     "name": "stdout",
     "output_type": "stream",
     "text": [
      "7157479\n"
     ]
    }
   ],
   "source": [
    "n = getrandbits(24)\n",
    "print(n)"
   ]
  },
  {
   "cell_type": "code",
   "execution_count": 39,
   "metadata": {},
   "outputs": [
    {
     "name": "stdout",
     "output_type": "stream",
     "text": [
      "7^2 * 43^2 * 79\n",
      "120\n"
     ]
    }
   ],
   "source": [
    "print(factor(n))\n",
    "print(factorial(5))"
   ]
  },
  {
   "cell_type": "code",
   "execution_count": 40,
   "metadata": {},
   "outputs": [
    {
     "name": "stdout",
     "output_type": "stream",
     "text": [
      "[(7, 2), (43, 2), (79, 1)]\n",
      "{7: 2, 43: 2, 79: 1}\n"
     ]
    }
   ],
   "source": [
    "n_facs = factor(n)\n",
    "print(list(n_facs))\n",
    "print(dict(n_facs))"
   ]
  },
  {
   "cell_type": "markdown",
   "metadata": {},
   "source": [
    "### 代数运算"
   ]
  },
  {
   "cell_type": "code",
   "execution_count": 45,
   "metadata": {},
   "outputs": [
    {
     "name": "stdout",
     "output_type": "stream",
     "text": [
      "Integer Ring Rational Field Real Field with 53 bits of precision Complex Field with 53 bits of precision\n",
      "Real Field with 200 bits of precision\n"
     ]
    }
   ],
   "source": [
    "print(ZZ, QQ, RR, CC)\n",
    "R = RealField(200)\n",
    "print(R)"
   ]
  },
  {
   "cell_type": "markdown",
   "metadata": {},
   "source": [
    "Galois Field"
   ]
  },
  {
   "cell_type": "code",
   "execution_count": 46,
   "metadata": {},
   "outputs": [
    {
     "name": "stdout",
     "output_type": "stream",
     "text": [
      "Finite Field of size 793757\n"
     ]
    }
   ],
   "source": [
    "K1 = GF(getPrime(20))\n",
    "print(K1)"
   ]
  },
  {
   "cell_type": "code",
   "execution_count": 47,
   "metadata": {},
   "outputs": [
    {
     "name": "stdout",
     "output_type": "stream",
     "text": [
      "444027\n"
     ]
    }
   ],
   "source": [
    "a = 3256435241\n",
    "a = K1(a)\n",
    "print(a)"
   ]
  },
  {
   "cell_type": "code",
   "execution_count": 51,
   "metadata": {},
   "outputs": [
    {
     "name": "stdout",
     "output_type": "stream",
     "text": [
      "199698\n",
      "140817\n",
      "539344\n",
      "x + 793756\n",
      "1\n"
     ]
    }
   ],
   "source": [
    "print(a ^ 3)\n",
    "print(a ^ (-2))\n",
    "print(a.nth_root(4))\n",
    "print(K1.modulus())\n",
    "print(K1.gen())"
   ]
  },
  {
   "cell_type": "code",
   "execution_count": 55,
   "metadata": {},
   "outputs": [
    {
     "name": "stdout",
     "output_type": "stream",
     "text": [
      "x^5 + 2*x + 1\n",
      "x^2 + 3*x + 2\n",
      "x + 8\n"
     ]
    }
   ],
   "source": [
    "PK1.<x> = K1[]\n",
    "f = x ^ 5 + 2 * x + 1\n",
    "print(f)\n",
    "g = x ^ 2 + 3 * x + 2\n",
    "print(g)\n",
    "r = x + 8\n",
    "print(gcd(f * r, g * r))"
   ]
  },
  {
   "cell_type": "markdown",
   "metadata": {},
   "source": [
    "整数环"
   ]
  },
  {
   "cell_type": "code",
   "execution_count": 56,
   "metadata": {},
   "outputs": [
    {
     "name": "stdout",
     "output_type": "stream",
     "text": [
      "Ring of integers modulo 126534234764\n"
     ]
    }
   ],
   "source": [
    "# ZZ\n",
    "n = 126534234764\n",
    "R1 = Zmod(n)\n",
    "print(R1)"
   ]
  },
  {
   "cell_type": "code",
   "execution_count": 62,
   "metadata": {},
   "outputs": [
    {
     "name": "stdout",
     "output_type": "stream",
     "text": [
      "x^6 + 342223542\n",
      "x^6 + 5217\n"
     ]
    }
   ],
   "source": [
    "PR1.<x> = R1[]\n",
    "a = x ^ 6 + 342223542\n",
    "print(a)\n",
    "R2 = Zmod(12433)\n",
    "a = a.change_ring(R2)\n",
    "print(a)"
   ]
  },
  {
   "cell_type": "code",
   "execution_count": 63,
   "metadata": {},
   "outputs": [
    {
     "name": "stdout",
     "output_type": "stream",
     "text": [
      "69*x^3 - 68*x^2 + 286\n"
     ]
    }
   ],
   "source": [
    "PR3.<x> = ZZ[]\n",
    "f1 = x^3 + 235\n",
    "f2 = x^2 + 34234\n",
    "m_s = [17, 23]\n",
    "print(crt([f1, f2], m_s))"
   ]
  },
  {
   "cell_type": "markdown",
   "metadata": {},
   "source": [
    "groebner基，sylvester结式（resultant）"
   ]
  },
  {
   "cell_type": "markdown",
   "metadata": {},
   "source": [
    "### 矩阵运算"
   ]
  },
  {
   "cell_type": "markdown",
   "metadata": {},
   "source": [
    "矩阵运算"
   ]
  },
  {
   "cell_type": "code",
   "execution_count": 74,
   "metadata": {},
   "outputs": [
    {
     "name": "stdout",
     "output_type": "stream",
     "text": [
      "[ 1325     0]\n",
      "[32531 61383]\n",
      "62708\n",
      "1058\n",
      "[51663     0]\n",
      "[49286 19485]\n",
      "[54507     0]\n",
      "[58011 58043]\n",
      "[1 0]\n",
      "[0 1]\n",
      "Vector space of degree 2 and dimension 0 over Ring of integers modulo 65537\n",
      "Basis matrix:\n",
      "[]\n",
      "(2, 1)\n"
     ]
    },
    {
     "data": {
      "text/plain": [
       "(4, 4)"
      ]
     },
     "execution_count": 74,
     "metadata": {},
     "output_type": "execute_result"
    }
   ],
   "source": [
    "mat1 = [[1325, 0], [32531, -4154]]\n",
    "mat1 = Matrix(Zmod(65537), mat1)\n",
    "print(mat1)\n",
    "print(mat1.trace())\n",
    "print(mat1.det())\n",
    "print(mat1 ** 2)\n",
    "print(mat1 ^ (-1))\n",
    "print(mat1.echelon_form())\n",
    "print(mat1.right_kernel())\n",
    "\n",
    "vec1 = vector(GF(7), [1234, 253])\n",
    "print(vec1)\n",
    "\n",
    "mat1.change_ring(GF(7)) * vec1"
   ]
  }
 ],
 "metadata": {
  "kernelspec": {
   "display_name": "SageMath 9.3",
   "language": "sage",
   "name": "sagemath"
  },
  "language_info": {
   "codemirror_mode": {
    "name": "ipython",
    "version": 3
   },
   "file_extension": ".py",
   "mimetype": "text/x-python",
   "name": "python",
   "nbconvert_exporter": "python",
   "pygments_lexer": "ipython3",
   "version": "3.7.10"
  }
 },
 "nbformat": 4,
 "nbformat_minor": 2
}
